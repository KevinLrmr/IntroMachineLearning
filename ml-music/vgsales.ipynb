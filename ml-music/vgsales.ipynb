{
 "cells": [
  {
   "cell_type": "code",
   "execution_count": 12,
   "metadata": {},
   "outputs": [],
   "source": [
    "import pandas as pd\n",
    "from pandasql import sqldf\n",
    "\n",
    "# df => dataframe\n",
    "df = pd.read_csv('./data/vgsales.csv')\n",
    "\n",
    "# Requête qui retourne tous les jeux sortis sur NES\n",
    "nes_games = df.query(\"Platform == 'NES'\")\n"
   ]
  },
  {
   "cell_type": "code",
   "execution_count": 13,
   "metadata": {},
   "outputs": [
    {
     "data": {
      "text/plain": [
       "1291.02"
      ]
     },
     "execution_count": 13,
     "metadata": {},
     "output_type": "execute_result"
    }
   ],
   "source": [
    "# Requête qui retourne la somme des ventes japonaises de tous les jeux\n",
    "sum_japan_games = df['JP_Sales'].sum()\n",
    "sum_japan_games = round(sum_japan_games, 2)\n",
    "sum_japan_games"
   ]
  },
  {
   "cell_type": "code",
   "execution_count": 14,
   "metadata": {},
   "outputs": [
    {
     "data": {
      "text/plain": [
       "8004"
      ]
     },
     "execution_count": 14,
     "metadata": {},
     "output_type": "execute_result"
    }
   ],
   "source": [
    "\n",
    "# Requête qui retourne le nombre de jeux sorti à partir de 2008\n",
    "nb_games_from_2008 = len(df.query(\"Year >= 2008\"))\n",
    "nb_games_from_2008"
   ]
  },
  {
   "cell_type": "code",
   "execution_count": 15,
   "metadata": {},
   "outputs": [
    {
     "data": {
      "text/plain": [
       "7.98"
      ]
     },
     "execution_count": 15,
     "metadata": {},
     "output_type": "execute_result"
    }
   ],
   "source": [
    "# Requête qui retourne le pourcentage de jeu Wii.\n",
    "percentage_wii_games = len(df.query(\"Platform == 'Wii'\")) / df.shape[0] * 100\n",
    "percentage_wii_games = round(percentage_wii_games, 2)\n",
    "percentage_wii_games"
   ]
  },
  {
   "cell_type": "code",
   "execution_count": 16,
   "metadata": {},
   "outputs": [
    {
     "data": {
      "text/html": [
       "<div>\n",
       "<style scoped>\n",
       "    .dataframe tbody tr th:only-of-type {\n",
       "        vertical-align: middle;\n",
       "    }\n",
       "\n",
       "    .dataframe tbody tr th {\n",
       "        vertical-align: top;\n",
       "    }\n",
       "\n",
       "    .dataframe thead th {\n",
       "        text-align: right;\n",
       "    }\n",
       "</style>\n",
       "<table border=\"1\" class=\"dataframe\">\n",
       "  <thead>\n",
       "    <tr style=\"text-align: right;\">\n",
       "      <th></th>\n",
       "      <th>Rank</th>\n",
       "      <th>Name</th>\n",
       "      <th>Platform</th>\n",
       "      <th>Year</th>\n",
       "      <th>Genre</th>\n",
       "      <th>Publisher</th>\n",
       "      <th>NA_Sales</th>\n",
       "      <th>EU_Sales</th>\n",
       "      <th>JP_Sales</th>\n",
       "      <th>Other_Sales</th>\n",
       "      <th>Global_Sales</th>\n",
       "    </tr>\n",
       "  </thead>\n",
       "  <tbody>\n",
       "    <tr>\n",
       "      <th>0</th>\n",
       "      <td>2</td>\n",
       "      <td>Super Mario Bros.</td>\n",
       "      <td>NES</td>\n",
       "      <td>1985.0</td>\n",
       "      <td>Platform</td>\n",
       "      <td>Nintendo</td>\n",
       "      <td>29.08</td>\n",
       "      <td>3.58</td>\n",
       "      <td>6.81</td>\n",
       "      <td>0.77</td>\n",
       "      <td>40.24</td>\n",
       "    </tr>\n",
       "    <tr>\n",
       "      <th>1</th>\n",
       "      <td>10</td>\n",
       "      <td>Duck Hunt</td>\n",
       "      <td>NES</td>\n",
       "      <td>1984.0</td>\n",
       "      <td>Shooter</td>\n",
       "      <td>Nintendo</td>\n",
       "      <td>26.93</td>\n",
       "      <td>0.63</td>\n",
       "      <td>0.28</td>\n",
       "      <td>0.47</td>\n",
       "      <td>28.31</td>\n",
       "    </tr>\n",
       "    <tr>\n",
       "      <th>2</th>\n",
       "      <td>23</td>\n",
       "      <td>Super Mario Bros. 3</td>\n",
       "      <td>NES</td>\n",
       "      <td>1988.0</td>\n",
       "      <td>Platform</td>\n",
       "      <td>Nintendo</td>\n",
       "      <td>9.54</td>\n",
       "      <td>3.44</td>\n",
       "      <td>3.84</td>\n",
       "      <td>0.46</td>\n",
       "      <td>17.28</td>\n",
       "    </tr>\n",
       "    <tr>\n",
       "      <th>3</th>\n",
       "      <td>97</td>\n",
       "      <td>Super Mario Bros. 2</td>\n",
       "      <td>NES</td>\n",
       "      <td>1988.0</td>\n",
       "      <td>Platform</td>\n",
       "      <td>Nintendo</td>\n",
       "      <td>5.39</td>\n",
       "      <td>1.18</td>\n",
       "      <td>0.70</td>\n",
       "      <td>0.19</td>\n",
       "      <td>7.46</td>\n",
       "    </tr>\n",
       "    <tr>\n",
       "      <th>4</th>\n",
       "      <td>128</td>\n",
       "      <td>The Legend of Zelda</td>\n",
       "      <td>NES</td>\n",
       "      <td>1986.0</td>\n",
       "      <td>Action</td>\n",
       "      <td>Nintendo</td>\n",
       "      <td>3.74</td>\n",
       "      <td>0.93</td>\n",
       "      <td>1.69</td>\n",
       "      <td>0.14</td>\n",
       "      <td>6.51</td>\n",
       "    </tr>\n",
       "    <tr>\n",
       "      <th>...</th>\n",
       "      <td>...</td>\n",
       "      <td>...</td>\n",
       "      <td>...</td>\n",
       "      <td>...</td>\n",
       "      <td>...</td>\n",
       "      <td>...</td>\n",
       "      <td>...</td>\n",
       "      <td>...</td>\n",
       "      <td>...</td>\n",
       "      <td>...</td>\n",
       "      <td>...</td>\n",
       "    </tr>\n",
       "    <tr>\n",
       "      <th>93</th>\n",
       "      <td>5864</td>\n",
       "      <td>Famista '91</td>\n",
       "      <td>NES</td>\n",
       "      <td>1990.0</td>\n",
       "      <td>Sports</td>\n",
       "      <td>Namco Bandai Games</td>\n",
       "      <td>0.00</td>\n",
       "      <td>0.00</td>\n",
       "      <td>0.30</td>\n",
       "      <td>0.00</td>\n",
       "      <td>0.30</td>\n",
       "    </tr>\n",
       "    <tr>\n",
       "      <th>94</th>\n",
       "      <td>6163</td>\n",
       "      <td>Famista '92</td>\n",
       "      <td>NES</td>\n",
       "      <td>1991.0</td>\n",
       "      <td>Sports</td>\n",
       "      <td>Namco Bandai Games</td>\n",
       "      <td>0.00</td>\n",
       "      <td>0.00</td>\n",
       "      <td>0.28</td>\n",
       "      <td>0.00</td>\n",
       "      <td>0.28</td>\n",
       "    </tr>\n",
       "    <tr>\n",
       "      <th>95</th>\n",
       "      <td>10311</td>\n",
       "      <td>Final Fantasy I &amp; II</td>\n",
       "      <td>NES</td>\n",
       "      <td>1994.0</td>\n",
       "      <td>Role-Playing</td>\n",
       "      <td>Square</td>\n",
       "      <td>0.00</td>\n",
       "      <td>0.00</td>\n",
       "      <td>0.11</td>\n",
       "      <td>0.00</td>\n",
       "      <td>0.11</td>\n",
       "    </tr>\n",
       "    <tr>\n",
       "      <th>96</th>\n",
       "      <td>11987</td>\n",
       "      <td>Teenage Mutant Ninja Turtles: Tournament Fighters</td>\n",
       "      <td>NES</td>\n",
       "      <td>1992.0</td>\n",
       "      <td>Fighting</td>\n",
       "      <td>Konami Digital Entertainment</td>\n",
       "      <td>0.04</td>\n",
       "      <td>0.01</td>\n",
       "      <td>0.02</td>\n",
       "      <td>0.00</td>\n",
       "      <td>0.07</td>\n",
       "    </tr>\n",
       "    <tr>\n",
       "      <th>97</th>\n",
       "      <td>12638</td>\n",
       "      <td>Adventures of Lolo</td>\n",
       "      <td>NES</td>\n",
       "      <td>1989.0</td>\n",
       "      <td>Puzzle</td>\n",
       "      <td>HAL Laboratory</td>\n",
       "      <td>0.06</td>\n",
       "      <td>0.00</td>\n",
       "      <td>0.00</td>\n",
       "      <td>0.00</td>\n",
       "      <td>0.06</td>\n",
       "    </tr>\n",
       "  </tbody>\n",
       "</table>\n",
       "<p>98 rows × 11 columns</p>\n",
       "</div>"
      ],
      "text/plain": [
       "     Rank                                               Name Platform    Year  \\\n",
       "0       2                                  Super Mario Bros.      NES  1985.0   \n",
       "1      10                                          Duck Hunt      NES  1984.0   \n",
       "2      23                                Super Mario Bros. 3      NES  1988.0   \n",
       "3      97                                Super Mario Bros. 2      NES  1988.0   \n",
       "4     128                                The Legend of Zelda      NES  1986.0   \n",
       "..    ...                                                ...      ...     ...   \n",
       "93   5864                                        Famista '91      NES  1990.0   \n",
       "94   6163                                        Famista '92      NES  1991.0   \n",
       "95  10311                               Final Fantasy I & II      NES  1994.0   \n",
       "96  11987  Teenage Mutant Ninja Turtles: Tournament Fighters      NES  1992.0   \n",
       "97  12638                                 Adventures of Lolo      NES  1989.0   \n",
       "\n",
       "           Genre                     Publisher  NA_Sales  EU_Sales  JP_Sales  \\\n",
       "0       Platform                      Nintendo     29.08      3.58      6.81   \n",
       "1        Shooter                      Nintendo     26.93      0.63      0.28   \n",
       "2       Platform                      Nintendo      9.54      3.44      3.84   \n",
       "3       Platform                      Nintendo      5.39      1.18      0.70   \n",
       "4         Action                      Nintendo      3.74      0.93      1.69   \n",
       "..           ...                           ...       ...       ...       ...   \n",
       "93        Sports            Namco Bandai Games      0.00      0.00      0.30   \n",
       "94        Sports            Namco Bandai Games      0.00      0.00      0.28   \n",
       "95  Role-Playing                        Square      0.00      0.00      0.11   \n",
       "96      Fighting  Konami Digital Entertainment      0.04      0.01      0.02   \n",
       "97        Puzzle                HAL Laboratory      0.06      0.00      0.00   \n",
       "\n",
       "    Other_Sales  Global_Sales  \n",
       "0          0.77         40.24  \n",
       "1          0.47         28.31  \n",
       "2          0.46         17.28  \n",
       "3          0.19          7.46  \n",
       "4          0.14          6.51  \n",
       "..          ...           ...  \n",
       "93         0.00          0.30  \n",
       "94         0.00          0.28  \n",
       "95         0.00          0.11  \n",
       "96         0.00          0.07  \n",
       "97         0.00          0.06  \n",
       "\n",
       "[98 rows x 11 columns]"
      ]
     },
     "execution_count": 16,
     "metadata": {},
     "output_type": "execute_result"
    }
   ],
   "source": [
    "# Réaliser les requêtes ci-dessus avec sqldf. \n",
    "# Requête qui retourne tous les jeux sortis sur NES\n",
    "sql_nes_games = sqldf('''\n",
    "    SELECT * \n",
    "    FROM df where \n",
    "    Platform = \"NES\"\n",
    "''')\n",
    "sql_nes_games"
   ]
  },
  {
   "cell_type": "code",
   "execution_count": 17,
   "metadata": {},
   "outputs": [
    {
     "data": {
      "text/plain": [
       "0    1291.02\n",
       "Name: jpSum, dtype: float64"
      ]
     },
     "execution_count": 17,
     "metadata": {},
     "output_type": "execute_result"
    }
   ],
   "source": [
    "# Requête qui retourne la somme des ventes japonaises de tous les jeux\n",
    "sql_sum_japan_games = sqldf('''\n",
    "    SELECT sum(JP_Sales) as jpSum\n",
    "    FROM df\n",
    "''')['jpSum']\n",
    "sql_sum_japan_games"
   ]
  },
  {
   "cell_type": "code",
   "execution_count": 18,
   "metadata": {},
   "outputs": [
    {
     "data": {
      "text/html": [
       "<div>\n",
       "<style scoped>\n",
       "    .dataframe tbody tr th:only-of-type {\n",
       "        vertical-align: middle;\n",
       "    }\n",
       "\n",
       "    .dataframe tbody tr th {\n",
       "        vertical-align: top;\n",
       "    }\n",
       "\n",
       "    .dataframe thead th {\n",
       "        text-align: right;\n",
       "    }\n",
       "</style>\n",
       "<table border=\"1\" class=\"dataframe\">\n",
       "  <thead>\n",
       "    <tr style=\"text-align: right;\">\n",
       "      <th></th>\n",
       "      <th>countAoE2008</th>\n",
       "    </tr>\n",
       "  </thead>\n",
       "  <tbody>\n",
       "    <tr>\n",
       "      <th>0</th>\n",
       "      <td>8004</td>\n",
       "    </tr>\n",
       "  </tbody>\n",
       "</table>\n",
       "</div>"
      ],
      "text/plain": [
       "   countAoE2008\n",
       "0          8004"
      ]
     },
     "execution_count": 18,
     "metadata": {},
     "output_type": "execute_result"
    }
   ],
   "source": [
    "# Requête qui retourne le nombre de jeux sorti à partir de 2008\n",
    "sql_nb_games_after_2008 = sqldf('''\n",
    "    SELECT count(*) as countAoE2008\n",
    "    FROM df\n",
    "    WHERE Year >= 2008\n",
    "''')\n",
    "sql_nb_games_after_2008"
   ]
  },
  {
   "cell_type": "code",
   "execution_count": 25,
   "metadata": {},
   "outputs": [
    {
     "data": {
      "text/plain": [
       "7.98"
      ]
     },
     "execution_count": 25,
     "metadata": {},
     "output_type": "execute_result"
    }
   ],
   "source": [
    "# Requête qui retourne le pourcentage de jeu Wii.\n",
    "count_all = sqldf('''\n",
    "    SELECT count(*) as count\n",
    "    FROM df\n",
    "''')\n",
    "\n",
    "count_wii_games = sqldf('''\n",
    "    SELECT count(*) as count\n",
    "    FROM df\n",
    "    WHERE Platform = 'Wii'\n",
    "''')\n",
    "round(count_wii_games / count_all * 100, 2)['count'][0]"
   ]
  }
 ],
 "metadata": {
  "kernelspec": {
   "display_name": "Python 3.12.1 ('ml-venv': venv)",
   "language": "python",
   "name": "python3"
  },
  "language_info": {
   "codemirror_mode": {
    "name": "ipython",
    "version": 3
   },
   "file_extension": ".py",
   "mimetype": "text/x-python",
   "name": "python",
   "nbconvert_exporter": "python",
   "pygments_lexer": "ipython3",
   "version": "3.12.1"
  },
  "orig_nbformat": 4,
  "vscode": {
   "interpreter": {
    "hash": "7ae2613c9e4c1574ba646ecd0f246ee8e4a7c959266932ce3688a086ce1de6ad"
   }
  }
 },
 "nbformat": 4,
 "nbformat_minor": 2
}
