{
 "cells": [
  {
   "cell_type": "code",
   "execution_count": 1,
   "metadata": {},
   "outputs": [
    {
     "data": {
      "text/plain": [
       "['music-recommander.joblib']"
      ]
     },
     "execution_count": 1,
     "metadata": {},
     "output_type": "execute_result"
    }
   ],
   "source": [
    "import pandas as pd\n",
    "from sklearn import tree\n",
    "from sklearn.tree import DecisionTreeClassifier\n",
    "from sklearn.model_selection import train_test_split\n",
    "from sklearn.metrics import accuracy_score\n",
    "import joblib\n",
    "\n",
    "music_df = pd.read_csv('./data/music.csv')\n",
    "\n",
    "# X: Input data or features | y : output data or labels\n",
    "X = music_df.drop(columns=['genre'])\n",
    "y = music_df['genre']\n",
    "X_train, X_test, y_train, y_test = train_test_split(X, y, test_size= 0.2)\n",
    "\n",
    "# Entrainement du model\n",
    "model = DecisionTreeClassifier()\n",
    "model.fit(X_train, y_train)\n",
    "\n",
    "# Graphique représentant l'arbre de décision du modèle\n",
    "# -> Installer extension pour le voir Graphviz Interactive Preview\n",
    "tree.export_graphviz(\n",
    " model,\n",
    " out_file='music-recommander.dot',\n",
    " feature_names=['age', 'gender'],\n",
    " class_names=sorted(y.unique()),\n",
    " label='all',\n",
    " filled=True\n",
    ")\n",
    "\n",
    "# Prédictions\n",
    "predictions = model.predict(X_test)\n",
    "\n",
    "# Accuracy score\n",
    "score = accuracy_score(y_test, predictions)\n",
    "\n",
    "# Il est possible d'enregistrer le modèle via joblib\n",
    "joblib.dump(model, 'music-recommander.joblib')\n",
    "\n"
   ]
  }
 ],
 "metadata": {
  "kernelspec": {
   "display_name": "Python 3.12.1 ('ml-venv': venv)",
   "language": "python",
   "name": "python3"
  },
  "language_info": {
   "codemirror_mode": {
    "name": "ipython",
    "version": 3
   },
   "file_extension": ".py",
   "mimetype": "text/x-python",
   "name": "python",
   "nbconvert_exporter": "python",
   "pygments_lexer": "ipython3",
   "version": "3.12.1"
  },
  "orig_nbformat": 4,
  "vscode": {
   "interpreter": {
    "hash": "7ae2613c9e4c1574ba646ecd0f246ee8e4a7c959266932ce3688a086ce1de6ad"
   }
  }
 },
 "nbformat": 4,
 "nbformat_minor": 2
}
